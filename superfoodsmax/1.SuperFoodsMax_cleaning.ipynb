{
 "cells": [
  {
   "cell_type": "code",
   "execution_count": 1,
   "id": "7691582e-b4f5-40c8-a72f-d57c68e6dfbe",
   "metadata": {},
   "outputs": [],
   "source": [
    "import pandas as pd\n",
    "import numpy as np"
   ]
  },
  {
   "cell_type": "code",
   "execution_count": 2,
   "id": "78eaed1d-51c7-4a0a-9594-ee071c2840bb",
   "metadata": {},
   "outputs": [],
   "source": [
    "df = pd.read_csv('dataset_2019_2022.csv')"
   ]
  },
  {
   "cell_type": "code",
   "execution_count": 3,
   "id": "7163c48f-9172-457d-8e1a-bdcd6297fa37",
   "metadata": {},
   "outputs": [
    {
     "data": {
      "text/html": [
       "<div>\n",
       "<style scoped>\n",
       "    .dataframe tbody tr th:only-of-type {\n",
       "        vertical-align: middle;\n",
       "    }\n",
       "\n",
       "    .dataframe tbody tr th {\n",
       "        vertical-align: top;\n",
       "    }\n",
       "\n",
       "    .dataframe thead th {\n",
       "        text-align: right;\n",
       "    }\n",
       "</style>\n",
       "<table border=\"1\" class=\"dataframe\">\n",
       "  <thead>\n",
       "    <tr style=\"text-align: right;\">\n",
       "      <th></th>\n",
       "      <th>customer_id</th>\n",
       "      <th>product_id</th>\n",
       "      <th>basket_id</th>\n",
       "      <th>loyalty</th>\n",
       "      <th>household_type</th>\n",
       "      <th>age_band</th>\n",
       "      <th>department</th>\n",
       "      <th>brand</th>\n",
       "      <th>commodity</th>\n",
       "      <th>store</th>\n",
       "      <th>price</th>\n",
       "      <th>transaction_date</th>\n",
       "    </tr>\n",
       "  </thead>\n",
       "  <tbody>\n",
       "    <tr>\n",
       "      <th>0</th>\n",
       "      <td>15803</td>\n",
       "      <td>1131974</td>\n",
       "      <td>57266</td>\n",
       "      <td>Loyalist</td>\n",
       "      <td>1 adult with kids</td>\n",
       "      <td>19-24</td>\n",
       "      <td>Grocery</td>\n",
       "      <td>private</td>\n",
       "      <td>Baked bread/buns/rolls</td>\n",
       "      <td>374</td>\n",
       "      <td>0.99</td>\n",
       "      <td>5/10/2020</td>\n",
       "    </tr>\n",
       "    <tr>\n",
       "      <th>1</th>\n",
       "      <td>15803</td>\n",
       "      <td>1051516</td>\n",
       "      <td>57266</td>\n",
       "      <td>Loyalist</td>\n",
       "      <td>1 adult with kids</td>\n",
       "      <td>19-24</td>\n",
       "      <td>Produce</td>\n",
       "      <td>national</td>\n",
       "      <td>Vegetables - all others</td>\n",
       "      <td>374</td>\n",
       "      <td>0.70</td>\n",
       "      <td>24/10/2020</td>\n",
       "    </tr>\n",
       "    <tr>\n",
       "      <th>2</th>\n",
       "      <td>15803</td>\n",
       "      <td>967254</td>\n",
       "      <td>57266</td>\n",
       "      <td>Loyalist</td>\n",
       "      <td>1 adult with kids</td>\n",
       "      <td>19-24</td>\n",
       "      <td>Pharmaceutical</td>\n",
       "      <td>national</td>\n",
       "      <td>Cold and flu</td>\n",
       "      <td>374</td>\n",
       "      <td>1.68</td>\n",
       "      <td>18/10/2020</td>\n",
       "    </tr>\n",
       "    <tr>\n",
       "      <th>3</th>\n",
       "      <td>15803</td>\n",
       "      <td>1134222</td>\n",
       "      <td>57266</td>\n",
       "      <td>Loyalist</td>\n",
       "      <td>1 adult with kids</td>\n",
       "      <td>19-24</td>\n",
       "      <td>Grocery</td>\n",
       "      <td>private</td>\n",
       "      <td>Paper housewares</td>\n",
       "      <td>374</td>\n",
       "      <td>2.59</td>\n",
       "      <td>23/10/2020</td>\n",
       "    </tr>\n",
       "    <tr>\n",
       "      <th>4</th>\n",
       "      <td>15803</td>\n",
       "      <td>1003421</td>\n",
       "      <td>57266</td>\n",
       "      <td>Loyalist</td>\n",
       "      <td>1 adult with kids</td>\n",
       "      <td>19-24</td>\n",
       "      <td>Grocery</td>\n",
       "      <td>national</td>\n",
       "      <td>Soup</td>\n",
       "      <td>374</td>\n",
       "      <td>0.60</td>\n",
       "      <td>27/10/2020</td>\n",
       "    </tr>\n",
       "    <tr>\n",
       "      <th>5</th>\n",
       "      <td>15803</td>\n",
       "      <td>937791</td>\n",
       "      <td>57266</td>\n",
       "      <td>Loyalist</td>\n",
       "      <td>1 adult with kids</td>\n",
       "      <td>19-24</td>\n",
       "      <td>Grocery</td>\n",
       "      <td>national</td>\n",
       "      <td>Frozen pizza</td>\n",
       "      <td>374</td>\n",
       "      <td>2.25</td>\n",
       "      <td>28/10/2020</td>\n",
       "    </tr>\n",
       "    <tr>\n",
       "      <th>6</th>\n",
       "      <td>15803</td>\n",
       "      <td>1082185</td>\n",
       "      <td>57266</td>\n",
       "      <td>Loyalist</td>\n",
       "      <td>1 adult with kids</td>\n",
       "      <td>19-24</td>\n",
       "      <td>Produce</td>\n",
       "      <td>national</td>\n",
       "      <td>Tropical fruit</td>\n",
       "      <td>374</td>\n",
       "      <td>1.07</td>\n",
       "      <td>12/10/2020</td>\n",
       "    </tr>\n",
       "    <tr>\n",
       "      <th>7</th>\n",
       "      <td>15803</td>\n",
       "      <td>940947</td>\n",
       "      <td>57266</td>\n",
       "      <td>Loyalist</td>\n",
       "      <td>1 adult with kids</td>\n",
       "      <td>19-24</td>\n",
       "      <td>Meat</td>\n",
       "      <td>national</td>\n",
       "      <td>Heat/serve</td>\n",
       "      <td>374</td>\n",
       "      <td>5.00</td>\n",
       "      <td>2/10/2020</td>\n",
       "    </tr>\n",
       "    <tr>\n",
       "      <th>8</th>\n",
       "      <td>15803</td>\n",
       "      <td>1056010</td>\n",
       "      <td>57266</td>\n",
       "      <td>Loyalist</td>\n",
       "      <td>1 adult with kids</td>\n",
       "      <td>19-24</td>\n",
       "      <td>Nutrition</td>\n",
       "      <td>national</td>\n",
       "      <td>Prepared food</td>\n",
       "      <td>374</td>\n",
       "      <td>3.00</td>\n",
       "      <td>17/10/2020</td>\n",
       "    </tr>\n",
       "    <tr>\n",
       "      <th>9</th>\n",
       "      <td>15803</td>\n",
       "      <td>845307</td>\n",
       "      <td>57266</td>\n",
       "      <td>Loyalist</td>\n",
       "      <td>1 adult with kids</td>\n",
       "      <td>19-24</td>\n",
       "      <td>Deli</td>\n",
       "      <td>national</td>\n",
       "      <td>Deli meats</td>\n",
       "      <td>374</td>\n",
       "      <td>3.17</td>\n",
       "      <td>24/10/2020</td>\n",
       "    </tr>\n",
       "  </tbody>\n",
       "</table>\n",
       "</div>"
      ],
      "text/plain": [
       "   customer_id  product_id  basket_id   loyalty     household_type age_band  \\\n",
       "0        15803     1131974      57266  Loyalist  1 adult with kids    19-24   \n",
       "1        15803     1051516      57266  Loyalist  1 adult with kids    19-24   \n",
       "2        15803      967254      57266  Loyalist  1 adult with kids    19-24   \n",
       "3        15803     1134222      57266  Loyalist  1 adult with kids    19-24   \n",
       "4        15803     1003421      57266  Loyalist  1 adult with kids    19-24   \n",
       "5        15803      937791      57266  Loyalist  1 adult with kids    19-24   \n",
       "6        15803     1082185      57266  Loyalist  1 adult with kids    19-24   \n",
       "7        15803      940947      57266  Loyalist  1 adult with kids    19-24   \n",
       "8        15803     1056010      57266  Loyalist  1 adult with kids    19-24   \n",
       "9        15803      845307      57266  Loyalist  1 adult with kids    19-24   \n",
       "\n",
       "       department     brand                commodity  store  price  \\\n",
       "0         Grocery   private   Baked bread/buns/rolls    374   0.99   \n",
       "1         Produce  national  Vegetables - all others    374   0.70   \n",
       "2  Pharmaceutical  national             Cold and flu    374   1.68   \n",
       "3         Grocery   private         Paper housewares    374   2.59   \n",
       "4         Grocery  national                     Soup    374   0.60   \n",
       "5         Grocery  national             Frozen pizza    374   2.25   \n",
       "6         Produce  national           Tropical fruit    374   1.07   \n",
       "7            Meat  national               Heat/serve    374   5.00   \n",
       "8       Nutrition  national            Prepared food    374   3.00   \n",
       "9            Deli  national               Deli meats    374   3.17   \n",
       "\n",
       "  transaction_date  \n",
       "0        5/10/2020  \n",
       "1       24/10/2020  \n",
       "2       18/10/2020  \n",
       "3       23/10/2020  \n",
       "4       27/10/2020  \n",
       "5       28/10/2020  \n",
       "6       12/10/2020  \n",
       "7        2/10/2020  \n",
       "8       17/10/2020  \n",
       "9       24/10/2020  "
      ]
     },
     "execution_count": 3,
     "metadata": {},
     "output_type": "execute_result"
    }
   ],
   "source": [
    "df.head(10)"
   ]
  },
  {
   "cell_type": "code",
   "execution_count": 4,
   "id": "e4bf610c-4990-4603-ae72-2e401783b089",
   "metadata": {},
   "outputs": [],
   "source": [
    "df_clean = df.copy()"
   ]
  },
  {
   "cell_type": "code",
   "execution_count": 5,
   "id": "fc76b0e1-8db8-42fe-8792-033ed9ee793a",
   "metadata": {},
   "outputs": [
    {
     "name": "stdout",
     "output_type": "stream",
     "text": [
      "<class 'pandas.core.frame.DataFrame'>\n",
      "RangeIndex: 77750 entries, 0 to 77749\n",
      "Data columns (total 12 columns):\n",
      " #   Column            Non-Null Count  Dtype  \n",
      "---  ------            --------------  -----  \n",
      " 0   customer_id       77750 non-null  int64  \n",
      " 1   product_id        77750 non-null  int64  \n",
      " 2   basket_id         77750 non-null  int64  \n",
      " 3   loyalty           77750 non-null  object \n",
      " 4   household_type    77750 non-null  object \n",
      " 5   age_band          77750 non-null  object \n",
      " 6   department        77750 non-null  object \n",
      " 7   brand             77750 non-null  object \n",
      " 8   commodity         77750 non-null  object \n",
      " 9   store             77750 non-null  int64  \n",
      " 10  price             77750 non-null  float64\n",
      " 11  transaction_date  77750 non-null  object \n",
      "dtypes: float64(1), int64(4), object(7)\n",
      "memory usage: 7.1+ MB\n"
     ]
    }
   ],
   "source": [
    "df_clean.info()"
   ]
  },
  {
   "cell_type": "code",
   "execution_count": 6,
   "id": "003c1454-b2f8-4187-940a-6c6a45dbfd91",
   "metadata": {},
   "outputs": [
    {
     "data": {
      "text/plain": [
       "array(['First Time Buyer', 'Loyalist', 'Non-Loyalist'], dtype=object)"
      ]
     },
     "execution_count": 6,
     "metadata": {},
     "output_type": "execute_result"
    }
   ],
   "source": [
    "#using loyalty column and replacing Promiscious with Non-Loyalist\n",
    "df_clean['loyalty'] = df_clean['loyalty'].replace(\"Promiscuous\", \"Non-Loyalist\")\n",
    "np.unique(df_clean[\"loyalty\"])"
   ]
  },
  {
   "cell_type": "code",
   "execution_count": 7,
   "id": "a96ba09c-b4dc-46e0-bf04-a67b18d5b562",
   "metadata": {},
   "outputs": [
    {
     "data": {
      "text/plain": [
       "(77750, 12)"
      ]
     },
     "execution_count": 7,
     "metadata": {},
     "output_type": "execute_result"
    }
   ],
   "source": [
    "df_clean.shape"
   ]
  },
  {
   "cell_type": "code",
   "execution_count": 8,
   "id": "199d20c6-cc2f-4ea0-8fa7-d4346d7cf1ef",
   "metadata": {},
   "outputs": [
    {
     "data": {
      "text/plain": [
       "(77691, 12)"
      ]
     },
     "execution_count": 8,
     "metadata": {},
     "output_type": "execute_result"
    }
   ],
   "source": [
    "#Remove duplicates\n",
    "df_clean.drop_duplicates(keep= 'first', inplace=True)\n",
    "df_clean.shape"
   ]
  },
  {
   "cell_type": "code",
   "execution_count": 9,
   "id": "2811eccf-08e4-4795-af11-c9af6e81ecf0",
   "metadata": {},
   "outputs": [
    {
     "data": {
      "text/plain": [
       "customer_id         0\n",
       "product_id          0\n",
       "basket_id           0\n",
       "loyalty             0\n",
       "household_type      0\n",
       "age_band            0\n",
       "department          0\n",
       "brand               0\n",
       "commodity           0\n",
       "store               0\n",
       "price               0\n",
       "transaction_date    0\n",
       "dtype: int64"
      ]
     },
     "execution_count": 9,
     "metadata": {},
     "output_type": "execute_result"
    }
   ],
   "source": [
    "#Check for null values within dataframe\n",
    "df_clean.isnull().sum()"
   ]
  },
  {
   "cell_type": "code",
   "execution_count": 10,
   "id": "721889b4-a3ba-491d-bfeb-4f724e0090eb",
   "metadata": {},
   "outputs": [
    {
     "name": "stdout",
     "output_type": "stream",
     "text": [
      "<class 'pandas.core.frame.DataFrame'>\n",
      "Index: 77691 entries, 0 to 77749\n",
      "Data columns (total 12 columns):\n",
      " #   Column            Non-Null Count  Dtype  \n",
      "---  ------            --------------  -----  \n",
      " 0   customer_id       77691 non-null  int64  \n",
      " 1   product_id        77691 non-null  int64  \n",
      " 2   basket_id         77691 non-null  int64  \n",
      " 3   loyalty           77691 non-null  object \n",
      " 4   household_type    77691 non-null  object \n",
      " 5   age_band          77691 non-null  object \n",
      " 6   department        77691 non-null  object \n",
      " 7   brand             77691 non-null  object \n",
      " 8   commodity         77691 non-null  object \n",
      " 9   store             77691 non-null  int64  \n",
      " 10  price             77691 non-null  float64\n",
      " 11  transaction_date  77691 non-null  object \n",
      "dtypes: float64(1), int64(4), object(7)\n",
      "memory usage: 7.7+ MB\n"
     ]
    }
   ],
   "source": [
    "df_clean.info()"
   ]
  },
  {
   "cell_type": "code",
   "execution_count": 11,
   "id": "daf2970f-a260-4c77-87ca-0c77722b6f33",
   "metadata": {},
   "outputs": [],
   "source": [
    "#Filter out customer_ids longer than 5 digits \n",
    "df_clean = df_clean[df_clean['customer_id'].astype(str).str.len() == 5]"
   ]
  },
  {
   "cell_type": "code",
   "execution_count": 12,
   "id": "1843b33a-6bc5-4878-9539-52e7bfe75233",
   "metadata": {},
   "outputs": [
    {
     "data": {
      "text/plain": [
       "(77672, 12)"
      ]
     },
     "execution_count": 12,
     "metadata": {},
     "output_type": "execute_result"
    }
   ],
   "source": [
    "df_clean.shape"
   ]
  },
  {
   "cell_type": "code",
   "execution_count": 13,
   "id": "2ccb0351-1e92-4458-adfa-a9309c44dfaf",
   "metadata": {},
   "outputs": [
    {
     "data": {
      "text/plain": [
       "3479"
      ]
     },
     "execution_count": 13,
     "metadata": {},
     "output_type": "execute_result"
    }
   ],
   "source": [
    "(df_clean.groupby('basket_id')['transaction_date'].nunique() > 1).sum()"
   ]
  },
  {
   "cell_type": "code",
   "execution_count": 14,
   "id": "814e058b-0b1d-49d9-ab38-61704ac399b2",
   "metadata": {},
   "outputs": [],
   "source": [
    "#Standardise dates in the dataframe to transform dates to the first day of the month and remove time references. \n",
    "#this also negates some anomalies in the data where the same basket_id is found with multiple dates\n",
    "df_clean['t_date'] = pd.to_datetime(df_clean['transaction_date'], format=\"%d/%m/%Y\")  # Convert to datetime\n",
    "df_clean['t_date'] = df_clean['t_date'].dt.to_period('M').dt.start_time"
   ]
  },
  {
   "cell_type": "code",
   "execution_count": 15,
   "id": "cc7a5ddf-1c0a-43f9-be04-3d2913ae98e2",
   "metadata": {},
   "outputs": [
    {
     "data": {
      "text/html": [
       "<div>\n",
       "<style scoped>\n",
       "    .dataframe tbody tr th:only-of-type {\n",
       "        vertical-align: middle;\n",
       "    }\n",
       "\n",
       "    .dataframe tbody tr th {\n",
       "        vertical-align: top;\n",
       "    }\n",
       "\n",
       "    .dataframe thead th {\n",
       "        text-align: right;\n",
       "    }\n",
       "</style>\n",
       "<table border=\"1\" class=\"dataframe\">\n",
       "  <thead>\n",
       "    <tr style=\"text-align: right;\">\n",
       "      <th></th>\n",
       "      <th>trans_count</th>\n",
       "    </tr>\n",
       "    <tr>\n",
       "      <th>basket_id</th>\n",
       "      <th></th>\n",
       "    </tr>\n",
       "  </thead>\n",
       "  <tbody>\n",
       "    <tr>\n",
       "      <th>51964</th>\n",
       "      <td>1</td>\n",
       "    </tr>\n",
       "    <tr>\n",
       "      <th>51965</th>\n",
       "      <td>1</td>\n",
       "    </tr>\n",
       "    <tr>\n",
       "      <th>51966</th>\n",
       "      <td>1</td>\n",
       "    </tr>\n",
       "    <tr>\n",
       "      <th>51967</th>\n",
       "      <td>1</td>\n",
       "    </tr>\n",
       "    <tr>\n",
       "      <th>51968</th>\n",
       "      <td>1</td>\n",
       "    </tr>\n",
       "    <tr>\n",
       "      <th>51969</th>\n",
       "      <td>1</td>\n",
       "    </tr>\n",
       "    <tr>\n",
       "      <th>51970</th>\n",
       "      <td>1</td>\n",
       "    </tr>\n",
       "    <tr>\n",
       "      <th>51971</th>\n",
       "      <td>1</td>\n",
       "    </tr>\n",
       "    <tr>\n",
       "      <th>51972</th>\n",
       "      <td>1</td>\n",
       "    </tr>\n",
       "    <tr>\n",
       "      <th>51973</th>\n",
       "      <td>1</td>\n",
       "    </tr>\n",
       "  </tbody>\n",
       "</table>\n",
       "</div>"
      ],
      "text/plain": [
       "           trans_count\n",
       "basket_id             \n",
       "51964                1\n",
       "51965                1\n",
       "51966                1\n",
       "51967                1\n",
       "51968                1\n",
       "51969                1\n",
       "51970                1\n",
       "51971                1\n",
       "51972                1\n",
       "51973                1"
      ]
     },
     "execution_count": 15,
     "metadata": {},
     "output_type": "execute_result"
    }
   ],
   "source": [
    "df_clean.groupby('basket_id').agg(trans_count=('t_date', 'nunique')).head(10)"
   ]
  },
  {
   "cell_type": "code",
   "execution_count": 16,
   "id": "ec8f5e96-52f7-483e-9fde-0def22f49adf",
   "metadata": {},
   "outputs": [
    {
     "data": {
      "text/plain": [
       "0"
      ]
     },
     "execution_count": 16,
     "metadata": {},
     "output_type": "execute_result"
    }
   ],
   "source": [
    "#Confirming all basket_id dates have been standardised\n",
    "(df_clean.groupby('basket_id')['t_date'].nunique() > 1).sum()"
   ]
  },
  {
   "cell_type": "code",
   "execution_count": 17,
   "id": "d075fedf-07fb-4ae6-b983-44138ab042f5",
   "metadata": {},
   "outputs": [],
   "source": [
    "df_clean.to_csv('cleaned_SFM_dataset_2019_2022.csv', index=False)"
   ]
  },
  {
   "cell_type": "code",
   "execution_count": null,
   "id": "993e8588-1a0a-4b66-a8a8-3979e647b6fe",
   "metadata": {},
   "outputs": [],
   "source": []
  }
 ],
 "metadata": {
  "kernelspec": {
   "display_name": "Python 3 (ipykernel)",
   "language": "python",
   "name": "python3"
  },
  "language_info": {
   "codemirror_mode": {
    "name": "ipython",
    "version": 3
   },
   "file_extension": ".py",
   "mimetype": "text/x-python",
   "name": "python",
   "nbconvert_exporter": "python",
   "pygments_lexer": "ipython3",
   "version": "3.12.3"
  }
 },
 "nbformat": 4,
 "nbformat_minor": 5
}
